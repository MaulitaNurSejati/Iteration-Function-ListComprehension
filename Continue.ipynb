{
 "cells": [
  {
   "cell_type": "markdown",
   "id": "c91bff5c",
   "metadata": {},
   "source": [
    "# CONTINUE"
   ]
  },
  {
   "cell_type": "markdown",
   "id": "a82a3124",
   "metadata": {},
   "source": [
    "In Python, the continue statement is a control statement used within loops (such as for or while) to skip the current iteration and proceed to the next one. Here's a simple explanation of how the continue statement works:\n",
    "\n",
    "When a continue statement is encountered inside a loop, it immediately stops the current iteration of the loop and moves on to the next iteration. This means that any code following the continue statement within the current iteration is skipped, and the loop continues with the next iteration."
   ]
  },
  {
   "cell_type": "markdown",
   "id": "cc8ae7d9",
   "metadata": {},
   "source": [
    "## Here's a basic example to illustrate the concept:"
   ]
  },
  {
   "cell_type": "code",
   "execution_count": 22,
   "id": "46da904b",
   "metadata": {},
   "outputs": [
    {
     "name": "stdout",
     "output_type": "stream",
     "text": [
      "B\n",
      "e\n",
      "l\n",
      "a\n",
      "a\n",
      "r\n",
      " \n",
      "P\n",
      "y\n",
      "t\n",
      "h\n",
      "o\n",
      "n\n"
     ]
    }
   ],
   "source": [
    "for i in \"Belajar Python\":\n",
    "    if i == \"j\":\n",
    "        continue\n",
    "    print(i)"
   ]
  },
  {
   "cell_type": "markdown",
   "id": "f6658b8e",
   "metadata": {},
   "source": [
    "The for loop iterates through each character in the string \"Belajar Python\" one by one, assigning each character to the variable i in each iteration. Inside the loop, there's an if statement that checks if the current character i is equal to \"j.\"\n",
    "When the loop encounters the character \"j,\" the continue statement is executed. As a result of the continue, the current iteration of the loop (where i is \"j\") is skipped, and the loop proceeds directly to the next character. The print(i) statement is used to print the current character i in each iteration of the loop, but it only gets executed for characters other than \"j.\"\n",
    "\n",
    "The loop prints characters \"B,\" \"e,\" \"l,\" \"a,\" \"a,\" \"r,\" a space, \"P,\" \"y,\" \"t,\" \"h,\" \"o,\" and \"n\" because these characters appear before or after \"j\" in the string \"Belajar Python.\"\n",
    "\n",
    "Characters \"j\" are skipped due to the continue statement."
   ]
  },
  {
   "cell_type": "markdown",
   "id": "89cd2aa1",
   "metadata": {},
   "source": [
    "## Another example of the concept of 'break' in numeric form:"
   ]
  },
  {
   "cell_type": "code",
   "execution_count": 23,
   "id": "45a390be",
   "metadata": {},
   "outputs": [
    {
     "name": "stdout",
     "output_type": "stream",
     "text": [
      "1\n",
      "3\n",
      "5\n"
     ]
    }
   ],
   "source": [
    "num = [1,2,3,4,5]\n",
    "\n",
    "for i in num:\n",
    "    if i % 2 == 0:\n",
    "        continue\n",
    "        print(i)\n",
    "    elif i == 6:\n",
    "        break\n",
    "        print(i)\n",
    "    else:\n",
    "        print(i)"
   ]
  },
  {
   "cell_type": "markdown",
   "id": "1add3f68",
   "metadata": {},
   "source": [
    "The list num contains the numbers 1 through 5. The for loop iterates through each element of the num list, and in each iteration, the current number is assigned to the variable i. Inside the loop, there's an if statement that checks if the current number i is even (i.e., divisible by 2) using the condition i % 2 == 0.\n",
    "\n",
    "If the number is even, the continue statement is executed. This means that the rest of the code within the current iteration is skipped, and the loop proceeds to the next iteration. No even numbers are printed in this case. If the current number i is not even, it proceeds to the elif block. The elif block checks if i is equal to 6. However, there's no number 6 in the num list, so the elif block is never executed.\n",
    "\n",
    "Finally, the else block is executed, which prints the current number i. This block gets executed for all odd numbers in the num list. The code prints the odd numbers 1, 3, and 5 because these numbers are not even and do not match the condition in the if statement for continue."
   ]
  },
  {
   "cell_type": "markdown",
   "id": "a5268f03",
   "metadata": {},
   "source": [
    "## Another example of the concept of 'break' in string form:"
   ]
  },
  {
   "cell_type": "code",
   "execution_count": 24,
   "id": "eb1964f2",
   "metadata": {},
   "outputs": [
    {
     "name": "stdout",
     "output_type": "stream",
     "text": [
      "Hello Lita\n",
      "Done!\n"
     ]
    }
   ],
   "source": [
    "#Bentuk String\n",
    "names = [\"Lita\", \"Prita\", \"Zilla\", \"Diva\", \"Ryan\"]\n",
    "\n",
    "for name in names:\n",
    "    if len(name) != 4:\n",
    "        continue\n",
    "    elif name == \"Diva\":\n",
    "        print(\"Done!\")\n",
    "        break\n",
    "    else:\n",
    "        print(\"Hello {}\".format(name))"
   ]
  },
  {
   "cell_type": "markdown",
   "id": "127bfdc7",
   "metadata": {},
   "source": [
    "The list names contains a series of names. The for loop iterates through each name in the names list, and in each iteration, the current name is assigned to the variable name. Inside the loop, there's an if statement that checks if the length of the current name is not equal to 4 characters using the condition len(name) != 4.\n",
    "\n",
    "If the length of the name is not 4 characters, the continue statement is executed. This means that the rest of the code within the current iteration is skipped, and the loop proceeds to the next iteration. No action is taken for names with lengths other than 4 characters. \n",
    "\n",
    "If the length of the name is 4 characters, the code proceeds to the elif block. This block checks if the current name is equal to \"Diva.\" If the name is \"Diva,\" it prints \"Done!\" and then exits the loop using the break statement.\n",
    "\n",
    "If the current name is not \"Diva\" and has a length of 4 characters, the else block is executed, which prints a greeting message containing the name, such as \"Hello Lita.\"\n",
    "\n",
    "The code prints a greeting message for names \"Lita,\" \"Prita,\" and \"Zilla\" because they have a length of 4 characters and are not equal to \"Diva.\" When the loop encounters the name \"Diva,\" it prints \"Done!\" and immediately exits the loop using the break statement."
   ]
  },
  {
   "cell_type": "markdown",
   "id": "52d17d13",
   "metadata": {},
   "source": [
    "### In summary, the continue statement is used to skip the rest of the code within the current iteration of a loop and proceed directly to the next iteration, allowing you to control the flow of your loop."
   ]
  },
  {
   "cell_type": "code",
   "execution_count": null,
   "id": "9d6c617f",
   "metadata": {},
   "outputs": [],
   "source": []
  }
 ],
 "metadata": {
  "kernelspec": {
   "display_name": "Python 3 (ipykernel)",
   "language": "python",
   "name": "python3"
  },
  "language_info": {
   "codemirror_mode": {
    "name": "ipython",
    "version": 3
   },
   "file_extension": ".py",
   "mimetype": "text/x-python",
   "name": "python",
   "nbconvert_exporter": "python",
   "pygments_lexer": "ipython3",
   "version": "3.11.4"
  }
 },
 "nbformat": 4,
 "nbformat_minor": 5
}
