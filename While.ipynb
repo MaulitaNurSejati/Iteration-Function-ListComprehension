{
 "cells": [
  {
   "cell_type": "markdown",
   "id": "a9f20b56",
   "metadata": {},
   "source": [
    "While"
   ]
  },
  {
   "cell_type": "markdown",
   "id": "29aa2928",
   "metadata": {},
   "source": [
    "The `while` statement in Python is used for creating loops that continue executing a block of code as long as a specified condition is `True`. It repeatedly checks the condition before each iteration and stops when the condition becomes `False`. The `while` loop allows you to automate repetitive tasks and control the flow of your program based on changing conditions."
   ]
  },
  {
   "cell_type": "code",
   "execution_count": 1,
   "id": "2a2b9304",
   "metadata": {},
   "outputs": [
    {
     "name": "stdout",
     "output_type": "stream",
     "text": [
      "2\n",
      "number 2\n",
      "number 4\n",
      "number 6\n",
      "number 8\n"
     ]
    }
   ],
   "source": [
    "number = int(input())\n",
    "\n",
    "while (number < 10):\n",
    "    print(\"number {}\".format(number))\n",
    "    number = number + 2"
   ]
  },
  {
   "cell_type": "code",
   "execution_count": 2,
   "id": "158d8372",
   "metadata": {},
   "outputs": [
    {
     "name": "stdout",
     "output_type": "stream",
     "text": [
      "Insert word (10 characters exactly): Butterfly\n",
      "Word length must be exactly 10 characters.\n",
      "Insert word (10 characters exactly): Butterflies\n",
      "Word length must be exactly 10 characters.\n",
      "Insert word (10 characters exactly): Knowledges\n",
      "Word length is correct. Thank you!\n"
     ]
    }
   ],
   "source": [
    "input_string = input(\"Insert word (10 characters exactly): \")\n",
    "\n",
    "while len(input_string) != 10:\n",
    "    print(\"Word length must be exactly 10 characters.\")\n",
    "    input_string = input(\"Insert word (10 characters exactly): \")\n",
    "\n",
    "print(\"Word length is correct. Thank you!\")"
   ]
  },
  {
   "cell_type": "markdown",
   "id": "abf2a21c",
   "metadata": {},
   "source": [
    "Else after While"
   ]
  },
  {
   "cell_type": "markdown",
   "id": "54b6109b",
   "metadata": {},
   "source": [
    "In a `while` statement, the `else` block will always be executed when the condition in the `while` statement becomes `False`."
   ]
  },
  {
   "cell_type": "code",
   "execution_count": 4,
   "id": "8d77680f",
   "metadata": {},
   "outputs": [
    {
     "name": "stdout",
     "output_type": "stream",
     "text": [
      "6\n",
      "8\n",
      "10\n",
      "loop finish\n"
     ]
    }
   ],
   "source": [
    "number = int(input())\n",
    "\n",
    "while (number < 10):\n",
    "    number = number + 2\n",
    "    if number == 6:\n",
    "        break\n",
    "    print(number)\n",
    "else:\n",
    "    print(\"loop finish\")"
   ]
  },
  {
   "cell_type": "code",
   "execution_count": 5,
   "id": "fd9bb800",
   "metadata": {},
   "outputs": [
    {
     "name": "stdout",
     "output_type": "stream",
     "text": [
      "Guess the number (1-10): 6\n",
      "A little bit more\n",
      "Guess the number (1-10): 8\n",
      "A little bit less\n",
      "Guess the number (1-10): 7\n",
      "Congratulations! You guessed the correct number.\n",
      "Game over!\n"
     ]
    }
   ],
   "source": [
    "#Number guessing game\n",
    "target_value = 7\n",
    "\n",
    "user_input = None\n",
    "\n",
    "while user_input != target_value:\n",
    "    user_input = int(input(\"Guess the number (1-10): \"))\n",
    "\n",
    "    if user_input == target_value:\n",
    "        print(\"Congratulations! You guessed the correct number.\")\n",
    "        break\n",
    "    elif user_input > 10:\n",
    "        break\n",
    "    elif user_input < target_value:\n",
    "        print (\"A little bit more\")\n",
    "    else:\n",
    "        print (\"A little bit less\")\n",
    "else:\n",
    "    print(\"Try again. That's not the correct number.\")\n",
    "    \n",
    "print(\"Game over!\")"
   ]
  },
  {
   "cell_type": "code",
   "execution_count": 6,
   "id": "9390b7bb",
   "metadata": {},
   "outputs": [
    {
     "name": "stdout",
     "output_type": "stream",
     "text": [
      "10\n",
      "8\n",
      "6\n",
      "4\n",
      "2\n",
      "0\n",
      "loop finish\n"
     ]
    }
   ],
   "source": [
    "number = int(input())\n",
    "while (number > 0):\n",
    "    number = number - 2\n",
    "    print(number)\n",
    "else:\n",
    "    print(\"loop finish\")"
   ]
  },
  {
   "cell_type": "code",
   "execution_count": null,
   "id": "dfca763e",
   "metadata": {},
   "outputs": [],
   "source": []
  }
 ],
 "metadata": {
  "kernelspec": {
   "display_name": "Python 3 (ipykernel)",
   "language": "python",
   "name": "python3"
  },
  "language_info": {
   "codemirror_mode": {
    "name": "ipython",
    "version": 3
   },
   "file_extension": ".py",
   "mimetype": "text/x-python",
   "name": "python",
   "nbconvert_exporter": "python",
   "pygments_lexer": "ipython3",
   "version": "3.11.4"
  }
 },
 "nbformat": 4,
 "nbformat_minor": 5
}
