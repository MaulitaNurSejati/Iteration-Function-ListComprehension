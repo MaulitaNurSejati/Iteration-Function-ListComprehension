{
 "cells": [
  {
   "cell_type": "markdown",
   "id": "a6b0dad5",
   "metadata": {},
   "source": [
    "# BREAK"
   ]
  },
  {
   "cell_type": "markdown",
   "id": "587d3d97",
   "metadata": {},
   "source": [
    "In Python, the break statement is a control statement used to exit a loop prematurely. It allows you to terminate the current loop and resume execution of the program after the loop. Here's a simple explanation of how the break statement works:\n",
    "\n",
    "Imagine you have a loop (e.g., for or while) that is designed to run a set of instructions repeatedly until a certain condition is met. The break statement is used to interrupt the loop and stop its execution when a specific condition is satisfied. Once the break statement is encountered, the loop immediately exits, and the program continues with the code outside of the loop."
   ]
  },
  {
   "cell_type": "markdown",
   "id": "95ec03ae",
   "metadata": {},
   "source": [
    "## Here's a basic example to illustrate the concept:"
   ]
  },
  {
   "cell_type": "code",
   "execution_count": 24,
   "id": "b23c2d8b",
   "metadata": {},
   "outputs": [
    {
     "name": "stdout",
     "output_type": "stream",
     "text": [
      "B\n",
      "e\n",
      "l\n",
      "a\n"
     ]
    }
   ],
   "source": [
    "for i in \"Belajar Python\":\n",
    "    if i == \"j\":\n",
    "        break\n",
    "    print(i)"
   ]
  },
  {
   "cell_type": "markdown",
   "id": "d1981fef",
   "metadata": {},
   "source": [
    "The for loop iterates through each character in the string \"Belajar Python\" one by one, assigning each character to the variable i in each iteration. Inside the loop, there's an if statement that checks if the current character i is equal to \"j.\"\n",
    "When the loop encounters the character \"j,\" the break statement is executed. As a result of the break, the loop immediately terminates, and the program continues executing the code after the loop. The print(i) statement is used to print the current character i in each iteration of the loop, but it only gets executed for characters before \"j.\"\n",
    "\n",
    "The loop prints characters \"B,\" \"e,\" \"l,\" and \"a\" because these characters appear before \"j\" in the string \"Belajar Python.\"\n",
    "Once the loop reaches \"j,\" the break statement is triggered, and the loop ends prematurely. \n",
    "\n",
    "In summary, the break statement is used to exit a loop when a specific condition is met. In this case, it stops the loop as soon as it encounters the character \"j\" in the string."
   ]
  },
  {
   "cell_type": "markdown",
   "id": "e6707494",
   "metadata": {},
   "source": [
    "## Another example of the concept of 'break' in string form:"
   ]
  },
  {
   "cell_type": "code",
   "execution_count": 25,
   "id": "51616b02",
   "metadata": {},
   "outputs": [
    {
     "name": "stdout",
     "output_type": "stream",
     "text": [
      "Bulan Januari\n",
      "Bulan Februari\n",
      "Bulan Maret\n",
      "Bulan April\n",
      "Loop has finished\n"
     ]
    }
   ],
   "source": [
    "for month in ['Januari', 'Februari','Maret','April','Mei','Juni','Juli']:\n",
    "    if month == 'Mei':\n",
    "        break\n",
    "    print(\"Bulan {}\".format(month))\n",
    "\n",
    "print(\"Loop has finished\")"
   ]
  },
  {
   "cell_type": "markdown",
   "id": "0cd40c36",
   "metadata": {},
   "source": [
    "In the provided code, a `for` loop iterates through a list of month names, including 'Januari,' 'Februari,' 'Maret,' 'April,' 'Mei,' 'Juni,' and 'Juli.' Inside the loop, there's an `if` statement that checks if the current month is equal to 'Mei' (May). When 'Mei' is encountered, the `break` statement is executed, causing the loop to terminate prematurely. As a result, only the months before 'Mei' are printed, and the loop ends. After the loop, the message \"Loop has finished\" is printed. This code demonstrates how the `break` statement can be used to exit a loop when a specific condition is met."
   ]
  },
  {
   "cell_type": "markdown",
   "id": "f2da1634",
   "metadata": {},
   "source": [
    "## Another example of the concept of 'break' in numeric form:"
   ]
  },
  {
   "cell_type": "code",
   "execution_count": 26,
   "id": "93d3833a",
   "metadata": {},
   "outputs": [
    {
     "name": "stdout",
     "output_type": "stream",
     "text": [
      "Angka: 1\n",
      "Angka: 2\n",
      "Angka: 3\n",
      "Angka: 4\n",
      "Loop akan berhenti saat mencapai angka 5\n",
      "Loop telah selesai dijalankan\n"
     ]
    }
   ],
   "source": [
    "for number in range(1, 11):\n",
    "    if number == 5:\n",
    "        print(\"Loop akan berhenti saat mencapai angka 5\")\n",
    "        break  \n",
    "    print(\"Angka: {}\".format(number))\n",
    "\n",
    "print(\"Loop telah selesai dijalankan\")"
   ]
  },
  {
   "cell_type": "markdown",
   "id": "98877523",
   "metadata": {},
   "source": [
    "In the provided code, a `for` loop iterates through a range of numbers from 1 to 10 using `range(1, 11)`. Inside the loop, there's an `if` statement that checks if the current number is equal to 5. When the loop encounters the number 5, the `break` statement is executed, causing the loop to terminate prematurely. As a result, only numbers 1 through 4 are printed, and the loop ends. After the loop, the message \"Loop telah selesai dijalankan\" is printed. This code demonstrates how the `break` statement can be used to exit a loop when a specific condition is met."
   ]
  },
  {
   "cell_type": "code",
   "execution_count": null,
   "id": "b469ec44",
   "metadata": {},
   "outputs": [],
   "source": []
  }
 ],
 "metadata": {
  "kernelspec": {
   "display_name": "Python 3 (ipykernel)",
   "language": "python",
   "name": "python3"
  },
  "language_info": {
   "codemirror_mode": {
    "name": "ipython",
    "version": 3
   },
   "file_extension": ".py",
   "mimetype": "text/x-python",
   "name": "python",
   "nbconvert_exporter": "python",
   "pygments_lexer": "ipython3",
   "version": "3.11.4"
  }
 },
 "nbformat": 4,
 "nbformat_minor": 5
}
