{
 "cells": [
  {
   "cell_type": "markdown",
   "id": "6d95fd0d",
   "metadata": {},
   "source": [
    "# Function"
   ]
  },
  {
   "cell_type": "markdown",
   "id": "301fda49",
   "metadata": {},
   "source": [
    "- A function in mathematics is a process that maps an input to an output. In Python, functions serve a similar purpose while also being used to organize code for reusability.\n",
    "- Python functions should ideally have a specific purpose and be designed for reusability.\n",
    "- While Python provides common built-in functions, developers can also define their own custom functions."
   ]
  },
  {
   "cell_type": "markdown",
   "id": "fc116964",
   "metadata": {},
   "source": [
    "# Define a Function"
   ]
  },
  {
   "cell_type": "markdown",
   "id": "d19e247e",
   "metadata": {},
   "source": [
    "- Functions are defined in Python using the 'def' keyword followed by the function name and its parameters enclosed in parentheses ().\n",
    "- Optionally, you can add a docstring, which is a documentation string that provides context and information about the function's purpose.\n",
    "- The code block inside each function starts with a colon ':' and uses indentation (whitespace) to define the scope of the function.\n",
    "- A function terminates when it encounters a return statement, which returns the specified expression to the caller.\n",
    "- Functions can also have no return value, indicated by 'return None'."
   ]
  },
  {
   "cell_type": "code",
   "execution_count": 3,
   "id": "4a71e534",
   "metadata": {},
   "outputs": [],
   "source": [
    "def squared(x):\n",
    "    quadrate = x**3\n",
    "    return quadrate"
   ]
  },
  {
   "cell_type": "code",
   "execution_count": 4,
   "id": "dbb314f7",
   "metadata": {},
   "outputs": [
    {
     "data": {
      "text/plain": [
       "125"
      ]
     },
     "execution_count": 4,
     "metadata": {},
     "output_type": "execute_result"
    }
   ],
   "source": [
    "squared(5)"
   ]
  },
  {
   "cell_type": "code",
   "execution_count": 5,
   "id": "35e188a7",
   "metadata": {},
   "outputs": [],
   "source": [
    "def cubed(x):\n",
    "    cubic = x**3\n",
    "    return cubic"
   ]
  },
  {
   "cell_type": "code",
   "execution_count": 6,
   "id": "99d88bc7",
   "metadata": {
    "scrolled": true
   },
   "outputs": [
    {
     "data": {
      "text/plain": [
       "8"
      ]
     },
     "execution_count": 6,
     "metadata": {},
     "output_type": "execute_result"
    }
   ],
   "source": [
    "cubed(2)"
   ]
  },
  {
   "cell_type": "code",
   "execution_count": 23,
   "id": "6b06454c",
   "metadata": {},
   "outputs": [],
   "source": [
    "import math"
   ]
  },
  {
   "cell_type": "code",
   "execution_count": 24,
   "id": "977d9613",
   "metadata": {},
   "outputs": [],
   "source": [
    "def square_root(x):\n",
    "    root = math.sqrt(x)\n",
    "    return root"
   ]
  },
  {
   "cell_type": "code",
   "execution_count": 25,
   "id": "a0777ef5",
   "metadata": {},
   "outputs": [
    {
     "data": {
      "text/plain": [
       "11.0"
      ]
     },
     "execution_count": 25,
     "metadata": {},
     "output_type": "execute_result"
    }
   ],
   "source": [
    "square_root(121)"
   ]
  },
  {
   "cell_type": "code",
   "execution_count": 38,
   "id": "4d3db0ec",
   "metadata": {},
   "outputs": [],
   "source": [
    "def concatenate_strings(str1, str2):\n",
    "    concatenate = str1 + \" \" + str2\n",
    "    return concatenate"
   ]
  },
  {
   "cell_type": "code",
   "execution_count": 39,
   "id": "490417de",
   "metadata": {},
   "outputs": [
    {
     "data": {
      "text/plain": [
       "'Data Analyst'"
      ]
     },
     "execution_count": 39,
     "metadata": {},
     "output_type": "execute_result"
    }
   ],
   "source": [
    "concatenate_strings(\"Data\", \"Analyst\")"
   ]
  },
  {
   "cell_type": "markdown",
   "id": "f891b000",
   "metadata": {},
   "source": [
    "By default in Python, when a function is declared, its parameters are positioned in the order in which they were defined. For the function to be invoked correctly, the parameters must be called in the same order."
   ]
  },
  {
   "cell_type": "code",
   "execution_count": 28,
   "id": "61eb0e67",
   "metadata": {},
   "outputs": [],
   "source": [
    "def name(x):\n",
    "    hello = \"Hi, we are {}\".format(x)\n",
    "    return hello"
   ]
  },
  {
   "cell_type": "code",
   "execution_count": 29,
   "id": "4a352b81",
   "metadata": {},
   "outputs": [
    {
     "data": {
      "text/plain": [
       "'Hi, we are Data Analyst'"
      ]
     },
     "execution_count": 29,
     "metadata": {},
     "output_type": "execute_result"
    }
   ],
   "source": [
    "name(\"Data Analyst\")"
   ]
  },
  {
   "cell_type": "markdown",
   "id": "1e47a8e5",
   "metadata": {},
   "source": [
    "# Return"
   ]
  },
  {
   "cell_type": "markdown",
   "id": "55a35133",
   "metadata": {},
   "source": [
    "The function will terminate the execution of the program and simultaneously return a specific value when the return statement is used with the assigned expression."
   ]
  },
  {
   "cell_type": "code",
   "execution_count": 30,
   "id": "d4dd9c5c",
   "metadata": {},
   "outputs": [],
   "source": [
    "def addition(x, y):\n",
    "    plus = x + y\n",
    "    print(\"The result of addition is {}\".format(plus))\n",
    "    return plus"
   ]
  },
  {
   "cell_type": "code",
   "execution_count": 31,
   "id": "ff194792",
   "metadata": {},
   "outputs": [
    {
     "name": "stdout",
     "output_type": "stream",
     "text": [
      "The result of addition is 5\n"
     ]
    },
    {
     "data": {
      "text/plain": [
       "5"
      ]
     },
     "execution_count": 31,
     "metadata": {},
     "output_type": "execute_result"
    }
   ],
   "source": [
    "addition(2, 3)"
   ]
  },
  {
   "cell_type": "code",
   "execution_count": 32,
   "id": "e70bf3dc",
   "metadata": {},
   "outputs": [
    {
     "name": "stdout",
     "output_type": "stream",
     "text": [
      "The result of addition is 5\n",
      "The result of return is 5\n"
     ]
    }
   ],
   "source": [
    "output = addition(2, 3)\n",
    "print(\"The result of return is {}\".format(output))"
   ]
  },
  {
   "cell_type": "markdown",
   "id": "171ace40",
   "metadata": {},
   "source": [
    "The return value of a function can be stored in a variable, which distinguishes it from a void function, which has no return value.  It is this defining feature that determines whether a value is returned or not."
   ]
  },
  {
   "cell_type": "code",
   "execution_count": 40,
   "id": "beb03d13",
   "metadata": {},
   "outputs": [],
   "source": [
    "def math(a, b):\n",
    "    addition = a + b\n",
    "    subtraction = a - b\n",
    "    times = a * b\n",
    "    divided = a / b\n",
    "    return times"
   ]
  },
  {
   "cell_type": "code",
   "execution_count": 41,
   "id": "8ef3c00d",
   "metadata": {},
   "outputs": [
    {
     "data": {
      "text/plain": [
       "30"
      ]
     },
     "execution_count": 41,
     "metadata": {},
     "output_type": "execute_result"
    }
   ],
   "source": [
    "math(6, 5)"
   ]
  },
  {
   "cell_type": "code",
   "execution_count": 42,
   "id": "4df95f70",
   "metadata": {},
   "outputs": [
    {
     "name": "stdout",
     "output_type": "stream",
     "text": [
      "The result is 36\n"
     ]
    }
   ],
   "source": [
    "output = math(4, 9)\n",
    "print(\"The result is {}\".format(output))"
   ]
  },
  {
   "cell_type": "markdown",
   "id": "c332006c",
   "metadata": {},
   "source": [
    "In the code above, it will produce the output based on the result returned. If it returns 'addition,' the output will be the result of a plus b. If it returns 'subtraction,' the output will be the result of a minus b, and the same goes for 'times' and 'divided'."
   ]
  }
 ],
 "metadata": {
  "kernelspec": {
   "display_name": "Python 3 (ipykernel)",
   "language": "python",
   "name": "python3"
  },
  "language_info": {
   "codemirror_mode": {
    "name": "ipython",
    "version": 3
   },
   "file_extension": ".py",
   "mimetype": "text/x-python",
   "name": "python",
   "nbconvert_exporter": "python",
   "pygments_lexer": "ipython3",
   "version": "3.11.4"
  }
 },
 "nbformat": 4,
 "nbformat_minor": 5
}
